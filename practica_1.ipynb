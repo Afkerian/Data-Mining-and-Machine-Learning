{
 "cells": [
  {
   "attachments": {},
   "cell_type": "markdown",
   "metadata": {},
   "source": [
    "# Hands On: Data Import and Manipulation"
   ]
  },
  {
   "cell_type": "code",
   "execution_count": 5,
   "metadata": {},
   "outputs": [],
   "source": [
    "import numpy as np\n",
    "import pandas as pd"
   ]
  },
  {
   "attachments": {},
   "cell_type": "markdown",
   "metadata": {},
   "source": [
    "## Introduction to Python for Machine Learning"
   ]
  },
  {
   "attachments": {},
   "cell_type": "markdown",
   "metadata": {},
   "source": [
    "### Create an array of 10 random integers between 1 and 100, and then calculate the mean and standard deviation of the array."
   ]
  },
  {
   "cell_type": "code",
   "execution_count": 6,
   "metadata": {},
   "outputs": [
    {
     "name": "stdout",
     "output_type": "stream",
     "text": [
      "Random Array: [52 93 15 72 61 21 83 87 75 75]\n",
      "Mean: 63.4\n",
      "Standard Deviation: 25.370061095708856\n"
     ]
    }
   ],
   "source": [
    "np.random.seed(42)\n",
    "\n",
    "random_array = np.random.randint(1, 101, size=10)\n",
    "\n",
    "mean = np.mean(random_array)\n",
    "\n",
    "std_dev = np.std(random_array)\n",
    "\n",
    "print(\"Random Array:\", random_array)\n",
    "print(\"Mean:\", mean)\n",
    "print(\"Standard Deviation:\", std_dev)"
   ]
  },
  {
   "attachments": {},
   "cell_type": "markdown",
   "metadata": {},
   "source": [
    "### Create a 2-dimensional array of 3 rows and 4 columns with random integer values. Then, calculate the sum of each row and column.\n"
   ]
  },
  {
   "cell_type": "code",
   "execution_count": 7,
   "metadata": {},
   "outputs": [
    {
     "name": "stdout",
     "output_type": "stream",
     "text": [
      "2-Dimensional Array:\n",
      "[[ 88 100  24   3]\n",
      " [ 22  53   2  88]\n",
      " [ 30  38   2  64]]\n",
      "\n",
      "Sum of each row: [215 165 134]\n",
      "Sum of each column: [140 191  28 155]\n"
     ]
    }
   ],
   "source": [
    "array_2d = np.random.randint(1, 101, size=(3, 4))\n",
    "\n",
    "row_sums = np.sum(array_2d, axis=1)\n",
    "\n",
    "column_sums = np.sum(array_2d, axis=0)\n",
    "\n",
    "print(\"2-Dimensional Array:\")\n",
    "print(array_2d)\n",
    "print(\"\\nSum of each row:\", row_sums)\n",
    "print(\"Sum of each column:\", column_sums)"
   ]
  },
  {
   "attachments": {},
   "cell_type": "markdown",
   "metadata": {},
   "source": [
    "### Create a DataFrame with 3 columns: \"Name\", \"Age\", and \"City\". Add at least 5 rows of data to the DataFrame. Then, filter the DataFrame to only include rows where the person's age is greater than or equal to 30.\n"
   ]
  },
  {
   "cell_type": "code",
   "execution_count": 10,
   "metadata": {},
   "outputs": [],
   "source": [
    "dataframe = {\n",
    "        \"Name\": [\"Alejandro\", \"Isaac\", \"Gutenberg\", \"Ivan\", \"Donald\"],\n",
    "        \"Age\": [25, 23, 21,49,79],\n",
    "        \"City\": [\"Quito\", \"Quito\",\"Manta\",\"Ambato\", \"Miami\"]\n",
    "}"
   ]
  },
  {
   "cell_type": "code",
   "execution_count": 11,
   "metadata": {},
   "outputs": [
    {
     "name": "stdout",
     "output_type": "stream",
     "text": [
      "Age is greater than: \n",
      "     Name  Age    City\n",
      "3    Ivan   49  Ambato\n",
      "4  Donald   79   Miami\n"
     ]
    }
   ],
   "source": [
    "df = pd.DataFrame(dataframe)\n",
    "\n",
    "filtered_df = df[df[\"Age\"] >= 30]\n",
    "\n",
    "print(\"Age is greater than: \")\n",
    "print(filtered_df)"
   ]
  },
  {
   "attachments": {},
   "cell_type": "markdown",
   "metadata": {},
   "source": [
    "###  Load a CSV file into a DataFrame and then calculate the mean, median, and mode of one of the columns in the DataFrame."
   ]
  },
  {
   "cell_type": "code",
   "execution_count": 12,
   "metadata": {},
   "outputs": [
    {
     "data": {
      "text/html": [
       "<div>\n",
       "<style scoped>\n",
       "    .dataframe tbody tr th:only-of-type {\n",
       "        vertical-align: middle;\n",
       "    }\n",
       "\n",
       "    .dataframe tbody tr th {\n",
       "        vertical-align: top;\n",
       "    }\n",
       "\n",
       "    .dataframe thead th {\n",
       "        text-align: right;\n",
       "    }\n",
       "</style>\n",
       "<table border=\"1\" class=\"dataframe\">\n",
       "  <thead>\n",
       "    <tr style=\"text-align: right;\">\n",
       "      <th></th>\n",
       "      <th>index</th>\n",
       "      <th>coffeeName</th>\n",
       "      <th>rating</th>\n",
       "      <th>rating_count</th>\n",
       "      <th>url</th>\n",
       "      <th>24_hours</th>\n",
       "      <th>lon</th>\n",
       "      <th>lan</th>\n",
       "    </tr>\n",
       "  </thead>\n",
       "  <tbody>\n",
       "    <tr>\n",
       "      <th>0</th>\n",
       "      <td>0</td>\n",
       "      <td>Cacti Cafe</td>\n",
       "      <td>4.2</td>\n",
       "      <td>2212</td>\n",
       "      <td>https://www.google.com/maps/place/Cacti+Cafe/d...</td>\n",
       "      <td>True</td>\n",
       "      <td>24.8339855</td>\n",
       "      <td>24.8339855</td>\n",
       "    </tr>\n",
       "    <tr>\n",
       "      <th>1</th>\n",
       "      <td>1</td>\n",
       "      <td>فازا قهوة مختصة</td>\n",
       "      <td>4.3</td>\n",
       "      <td>889</td>\n",
       "      <td>https://www.google.com/maps/place/%D9%81%D8%A7...</td>\n",
       "      <td>False</td>\n",
       "      <td>24.7724577</td>\n",
       "      <td>24.7724577</td>\n",
       "    </tr>\n",
       "    <tr>\n",
       "      <th>2</th>\n",
       "      <td>2</td>\n",
       "      <td>ناريز</td>\n",
       "      <td>3.8</td>\n",
       "      <td>39</td>\n",
       "      <td>https://www.google.com/maps/place/%D9%86%D8%A7...</td>\n",
       "      <td>False</td>\n",
       "      <td>24.8072766</td>\n",
       "      <td>24.8072766</td>\n",
       "    </tr>\n",
       "    <tr>\n",
       "      <th>3</th>\n",
       "      <td>3</td>\n",
       "      <td>Fc Lounge - اف سي لاونج</td>\n",
       "      <td>3.5</td>\n",
       "      <td>539</td>\n",
       "      <td>https://www.google.com/maps/place/Fc+Lounge+-+...</td>\n",
       "      <td>True</td>\n",
       "      <td>24.8131149</td>\n",
       "      <td>24.8131149</td>\n",
       "    </tr>\n",
       "    <tr>\n",
       "      <th>4</th>\n",
       "      <td>4</td>\n",
       "      <td>PEAKS</td>\n",
       "      <td>4.6</td>\n",
       "      <td>25</td>\n",
       "      <td>https://www.google.com/maps/place/PEAKS/data=!...</td>\n",
       "      <td>False</td>\n",
       "      <td>24.742045</td>\n",
       "      <td>24.742045</td>\n",
       "    </tr>\n",
       "  </tbody>\n",
       "</table>\n",
       "</div>"
      ],
      "text/plain": [
       "   index               coffeeName  rating  rating_count   \n",
       "0      0               Cacti Cafe     4.2          2212  \\\n",
       "1      1          فازا قهوة مختصة     4.3           889   \n",
       "2      2                    ناريز     3.8            39   \n",
       "3      3  Fc Lounge - اف سي لاونج     3.5           539   \n",
       "4      4                    PEAKS     4.6            25   \n",
       "\n",
       "                                                 url  24_hours         lon   \n",
       "0  https://www.google.com/maps/place/Cacti+Cafe/d...      True  24.8339855  \\\n",
       "1  https://www.google.com/maps/place/%D9%81%D8%A7...     False  24.7724577   \n",
       "2  https://www.google.com/maps/place/%D9%86%D8%A7...     False  24.8072766   \n",
       "3  https://www.google.com/maps/place/Fc+Lounge+-+...      True  24.8131149   \n",
       "4  https://www.google.com/maps/place/PEAKS/data=!...     False   24.742045   \n",
       "\n",
       "          lan  \n",
       "0  24.8339855  \n",
       "1  24.7724577  \n",
       "2  24.8072766  \n",
       "3  24.8131149  \n",
       "4   24.742045  "
      ]
     },
     "execution_count": 12,
     "metadata": {},
     "output_type": "execute_result"
    }
   ],
   "source": [
    "df = pd.read_csv('riyadh_cafes.csv')\n",
    "df.head(5)"
   ]
  },
  {
   "cell_type": "code",
   "execution_count": 19,
   "metadata": {},
   "outputs": [
    {
     "name": "stdout",
     "output_type": "stream",
     "text": [
      "Mean:  260.8210042161748\n",
      "\n",
      "Median:  613.3163601237649\n",
      "\n",
      "Mode:  [1]\n"
     ]
    }
   ],
   "source": [
    "print('Mean: ',df['rating_count'].mean())\n",
    "print('\\nMedian: ',df[\"rating_count\"].std())\n",
    "print(\"\\nMode: \",np.array(df['rating_count'].mode()))"
   ]
  },
  {
   "attachments": {},
   "cell_type": "markdown",
   "metadata": {},
   "source": [
    "### Create a scatter plot of random x and y values between 1 and 100."
   ]
  },
  {
   "cell_type": "code",
   "execution_count": null,
   "metadata": {},
   "outputs": [],
   "source": []
  }
 ],
 "metadata": {
  "kernelspec": {
   "display_name": "machineENV",
   "language": "python",
   "name": "python3"
  },
  "language_info": {
   "codemirror_mode": {
    "name": "ipython",
    "version": 3
   },
   "file_extension": ".py",
   "mimetype": "text/x-python",
   "name": "python",
   "nbconvert_exporter": "python",
   "pygments_lexer": "ipython3",
   "version": "3.9.2"
  },
  "orig_nbformat": 4
 },
 "nbformat": 4,
 "nbformat_minor": 2
}
